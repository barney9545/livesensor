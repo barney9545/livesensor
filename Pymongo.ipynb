{
 "cells": [
  {
   "cell_type": "code",
   "execution_count": 3,
   "metadata": {},
   "outputs": [],
   "source": [
    "import pymongo\n",
    "from pymongo import MongoClient\n",
    "import pandas as pd"
   ]
  },
  {
   "cell_type": "code",
   "execution_count": 3,
   "metadata": {},
   "outputs": [],
   "source": [
    "connection_string = 'mongodb+srv://CnBUser:<password>@cluster0.n2pbusl.mongodb.net/?retryWrites=true&w=majority&appName=Cluster0'"
   ]
  },
  {
   "cell_type": "code",
   "execution_count": 6,
   "metadata": {},
   "outputs": [],
   "source": [
    "client = MongoClient(connection_string)"
   ]
  },
  {
   "cell_type": "code",
   "execution_count": 8,
   "metadata": {},
   "outputs": [],
   "source": [
    "db = client['APS_Project']"
   ]
  },
  {
   "cell_type": "code",
   "execution_count": 9,
   "metadata": {},
   "outputs": [],
   "source": [
    "collection = db[\"monog_class\"]"
   ]
  },
  {
   "cell_type": "code",
   "execution_count": 10,
   "metadata": {},
   "outputs": [],
   "source": [
    "data = {\n",
    "    'name':'Darshan',\n",
    "    'age':'24'\n",
    "}"
   ]
  },
  {
   "cell_type": "code",
   "execution_count": 11,
   "metadata": {},
   "outputs": [
    {
     "data": {
      "text/plain": [
       "<pymongo.results.InsertOneResult at 0x185c5f13910>"
      ]
     },
     "execution_count": 11,
     "metadata": {},
     "output_type": "execute_result"
    }
   ],
   "source": [
    "collection.insert_one(data)"
   ]
  },
  {
   "cell_type": "code",
   "execution_count": 13,
   "metadata": {},
   "outputs": [
    {
     "name": "stdout",
     "output_type": "stream",
     "text": [
      "{'_id': ObjectId('66756b6c5b6ece0b014a5140'), 'name': 'Darshan', 'age': '24'}\n"
     ]
    }
   ],
   "source": [
    "cursor = collection.find({})\n",
    "for i in cursor:\n",
    "    print(i)"
   ]
  },
  {
   "cell_type": "code",
   "execution_count": null,
   "metadata": {},
   "outputs": [],
   "source": [
    "#compass is the GUI for mongo db "
   ]
  },
  {
   "cell_type": "code",
   "execution_count": 1,
   "metadata": {},
   "outputs": [],
   "source": [
    "from sensor.utils.main_utils import read_yaml_file"
   ]
  },
  {
   "cell_type": "code",
   "execution_count": 3,
   "metadata": {},
   "outputs": [],
   "source": [
    "file = read_yaml_file('config\\schema.yaml')"
   ]
  },
  {
   "cell_type": "code",
   "execution_count": 7,
   "metadata": {},
   "outputs": [
    {
     "data": {
      "text/plain": [
       "163"
      ]
     },
     "execution_count": 7,
     "metadata": {},
     "output_type": "execute_result"
    }
   ],
   "source": [
    "len(file['numerical_columns'])"
   ]
  },
  {
   "cell_type": "code",
   "execution_count": 9,
   "metadata": {},
   "outputs": [
    {
     "data": {
      "text/plain": [
       "dict_keys(['columns', 'numerical_columns', 'drop_columns'])"
      ]
     },
     "execution_count": 9,
     "metadata": {},
     "output_type": "execute_result"
    }
   ],
   "source": [
    "file.keys()"
   ]
  },
  {
   "cell_type": "code",
   "execution_count": 1,
   "metadata": {},
   "outputs": [],
   "source": [
    "from sensor.entity import artifacts_entity"
   ]
  },
  {
   "cell_type": "code",
   "execution_count": 3,
   "metadata": {},
   "outputs": [],
   "source": [
    "a = artifacts_entity.DataIngestionArtifact"
   ]
  },
  {
   "cell_type": "code",
   "execution_count": 22,
   "metadata": {},
   "outputs": [
    {
     "ename": "SensorException",
     "evalue": "Error=[Error=[Error=['NoneType' object has no attribute 'train_file_path'] occurred in file [d:\\APS Project\\sensor\\components\\data_validation.py] on line number [97]] occurred in file [d:\\APS Project\\sensor\\pipeline\\training_pipeline.py] on line number [37]] occurred in file [d:\\APS Project\\sensor\\pipeline\\training_pipeline.py] on line number [48]",
     "output_type": "error",
     "traceback": [
      "\u001b[1;31m---------------------------------------------------------------------------\u001b[0m",
      "\u001b[1;31mAttributeError\u001b[0m                            Traceback (most recent call last)",
      "File \u001b[1;32md:\\APS Project\\sensor\\components\\data_validation.py:97\u001b[0m, in \u001b[0;36mDataValidation.initiate_data_validation\u001b[1;34m(self)\u001b[0m\n\u001b[0;32m     96\u001b[0m \u001b[38;5;28;01mtry\u001b[39;00m:\n\u001b[1;32m---> 97\u001b[0m     train_file_path \u001b[38;5;241m=\u001b[39m \u001b[38;5;28;43mself\u001b[39;49m\u001b[38;5;241;43m.\u001b[39;49m\u001b[43mdata_ingestion_artifact\u001b[49m\u001b[38;5;241;43m.\u001b[39;49m\u001b[43mtrain_file_path\u001b[49m\n\u001b[0;32m     98\u001b[0m     test_file_path \u001b[38;5;241m=\u001b[39m \u001b[38;5;28mself\u001b[39m\u001b[38;5;241m.\u001b[39mdata_ingestion_artifact\u001b[38;5;241m.\u001b[39mtest_file_path\n",
      "\u001b[1;31mAttributeError\u001b[0m: 'NoneType' object has no attribute 'train_file_path'",
      "\nDuring handling of the above exception, another exception occurred:\n",
      "\u001b[1;31mSensorException\u001b[0m                           Traceback (most recent call last)",
      "File \u001b[1;32md:\\APS Project\\sensor\\pipeline\\training_pipeline.py:37\u001b[0m, in \u001b[0;36mTrainingPipeline.start_data_validation\u001b[1;34m(self, data_ingestion_artifact)\u001b[0m\n\u001b[0;32m     36\u001b[0m \u001b[38;5;28mself\u001b[39m\u001b[38;5;241m.\u001b[39mdata_validation \u001b[38;5;241m=\u001b[39m DataValidation(data_ingestion_artifact\u001b[38;5;241m=\u001b[39mdata_ingestion_artifact,data_validation_config\u001b[38;5;241m=\u001b[39m\u001b[38;5;28mself\u001b[39m\u001b[38;5;241m.\u001b[39mdata_validation_config)\n\u001b[1;32m---> 37\u001b[0m \u001b[38;5;28mself\u001b[39m\u001b[38;5;241m.\u001b[39mdata_validation_artifact \u001b[38;5;241m=\u001b[39m \u001b[38;5;28;43mself\u001b[39;49m\u001b[38;5;241;43m.\u001b[39;49m\u001b[43mdata_validation\u001b[49m\u001b[38;5;241;43m.\u001b[39;49m\u001b[43minitiate_data_validation\u001b[49m\u001b[43m(\u001b[49m\u001b[43m)\u001b[49m\n\u001b[0;32m     38\u001b[0m logging\u001b[38;5;241m.\u001b[39minfo(\u001b[38;5;124mf\u001b[39m\u001b[38;5;124m\"\u001b[39m\u001b[38;5;124mData validation completed and artifact: \u001b[39m\u001b[38;5;132;01m{\u001b[39;00m\u001b[38;5;28mself\u001b[39m\u001b[38;5;241m.\u001b[39mdata_validation_artifact\u001b[38;5;132;01m}\u001b[39;00m\u001b[38;5;124m\"\u001b[39m)\n",
      "File \u001b[1;32md:\\APS Project\\sensor\\components\\data_validation.py:154\u001b[0m, in \u001b[0;36mDataValidation.initiate_data_validation\u001b[1;34m(self)\u001b[0m\n\u001b[0;32m    153\u001b[0m \u001b[38;5;28;01mexcept\u001b[39;00m \u001b[38;5;167;01mException\u001b[39;00m \u001b[38;5;28;01mas\u001b[39;00m e:\n\u001b[1;32m--> 154\u001b[0m     \u001b[38;5;28;01mraise\u001b[39;00m SensorException(e,sys)\n",
      "\u001b[1;31mSensorException\u001b[0m: Error=['NoneType' object has no attribute 'train_file_path'] occurred in file [d:\\APS Project\\sensor\\components\\data_validation.py] on line number [97]",
      "\nDuring handling of the above exception, another exception occurred:\n",
      "\u001b[1;31mSensorException\u001b[0m                           Traceback (most recent call last)",
      "File \u001b[1;32md:\\APS Project\\sensor\\pipeline\\training_pipeline.py:48\u001b[0m, in \u001b[0;36mTrainingPipeline.run_pipeline\u001b[1;34m(self)\u001b[0m\n\u001b[0;32m     47\u001b[0m data_ingestion_artifact:DataIngestionArtifact \u001b[38;5;241m=\u001b[39m \u001b[38;5;28mself\u001b[39m\u001b[38;5;241m.\u001b[39mstart_data_ingestion()\n\u001b[1;32m---> 48\u001b[0m data_validation_artifact: DataValidationArtifact \u001b[38;5;241m=\u001b[39m \u001b[38;5;28;43mself\u001b[39;49m\u001b[38;5;241;43m.\u001b[39;49m\u001b[43mstart_data_validation\u001b[49m\u001b[43m(\u001b[49m\u001b[43mdata_ingestion_artifact\u001b[49m\u001b[43m)\u001b[49m\n\u001b[0;32m     49\u001b[0m logging\u001b[38;5;241m.\u001b[39minfo(\u001b[38;5;124mf\u001b[39m\u001b[38;5;124m\"\u001b[39m\u001b[38;5;124mtraining pipeline completed\u001b[39m\u001b[38;5;124m\"\u001b[39m)\n",
      "File \u001b[1;32md:\\APS Project\\sensor\\pipeline\\training_pipeline.py:42\u001b[0m, in \u001b[0;36mTrainingPipeline.start_data_validation\u001b[1;34m(self, data_ingestion_artifact)\u001b[0m\n\u001b[0;32m     41\u001b[0m \u001b[38;5;28;01mexcept\u001b[39;00m \u001b[38;5;167;01mException\u001b[39;00m \u001b[38;5;28;01mas\u001b[39;00m e:\n\u001b[1;32m---> 42\u001b[0m     \u001b[38;5;28;01mraise\u001b[39;00m SensorException(e,sys)\n",
      "\u001b[1;31mSensorException\u001b[0m: Error=[Error=['NoneType' object has no attribute 'train_file_path'] occurred in file [d:\\APS Project\\sensor\\components\\data_validation.py] on line number [97]] occurred in file [d:\\APS Project\\sensor\\pipeline\\training_pipeline.py] on line number [37]",
      "\nDuring handling of the above exception, another exception occurred:\n",
      "\u001b[1;31mSensorException\u001b[0m                           Traceback (most recent call last)",
      "Cell \u001b[1;32mIn[22], line 3\u001b[0m\n\u001b[0;32m      1\u001b[0m \u001b[38;5;28;01mfrom\u001b[39;00m \u001b[38;5;21;01msensor\u001b[39;00m\u001b[38;5;21;01m.\u001b[39;00m\u001b[38;5;21;01mpipeline\u001b[39;00m\u001b[38;5;21;01m.\u001b[39;00m\u001b[38;5;21;01mtraining_pipeline\u001b[39;00m \u001b[38;5;28;01mimport\u001b[39;00m TrainingPipeline\n\u001b[0;32m      2\u001b[0m pp1 \u001b[38;5;241m=\u001b[39m TrainingPipeline() \n\u001b[1;32m----> 3\u001b[0m \u001b[43mpp1\u001b[49m\u001b[38;5;241;43m.\u001b[39;49m\u001b[43mrun_pipeline\u001b[49m\u001b[43m(\u001b[49m\u001b[43m)\u001b[49m\n",
      "File \u001b[1;32md:\\APS Project\\sensor\\pipeline\\training_pipeline.py:52\u001b[0m, in \u001b[0;36mTrainingPipeline.run_pipeline\u001b[1;34m(self)\u001b[0m\n\u001b[0;32m     50\u001b[0m     \u001b[38;5;28;01mreturn\u001b[39;00m data_ingestion_artifact,data_validation_artifact\n\u001b[0;32m     51\u001b[0m \u001b[38;5;28;01mexcept\u001b[39;00m \u001b[38;5;167;01mException\u001b[39;00m \u001b[38;5;28;01mas\u001b[39;00m e:\n\u001b[1;32m---> 52\u001b[0m     \u001b[38;5;28;01mraise\u001b[39;00m SensorException(e,sys)\n",
      "\u001b[1;31mSensorException\u001b[0m: Error=[Error=[Error=['NoneType' object has no attribute 'train_file_path'] occurred in file [d:\\APS Project\\sensor\\components\\data_validation.py] on line number [97]] occurred in file [d:\\APS Project\\sensor\\pipeline\\training_pipeline.py] on line number [37]] occurred in file [d:\\APS Project\\sensor\\pipeline\\training_pipeline.py] on line number [48]"
     ]
    }
   ],
   "source": [
    "from sensor.pipeline.training_pipeline import TrainingPipeline\n",
    "pp1 = TrainingPipeline() \n",
    "pp1.run_pipeline()"
   ]
  },
  {
   "cell_type": "code",
   "execution_count": 10,
   "metadata": {},
   "outputs": [
    {
     "ename": "AttributeError",
     "evalue": "'NoneType' object has no attribute '__dict__'",
     "output_type": "error",
     "traceback": [
      "\u001b[1;31m---------------------------------------------------------------------------\u001b[0m",
      "\u001b[1;31mAttributeError\u001b[0m                            Traceback (most recent call last)",
      "Cell \u001b[1;32mIn[10], line 1\u001b[0m\n\u001b[1;32m----> 1\u001b[0m \u001b[43mpp1\u001b[49m\u001b[38;5;241;43m.\u001b[39;49m\u001b[43mdata_ingestion_artifact\u001b[49m\u001b[38;5;241;43m.\u001b[39;49m\u001b[38;5;18;43m__dict__\u001b[39;49m\n",
      "\u001b[1;31mAttributeError\u001b[0m: 'NoneType' object has no attribute '__dict__'"
     ]
    }
   ],
   "source": []
  },
  {
   "cell_type": "code",
   "execution_count": 19,
   "metadata": {},
   "outputs": [],
   "source": [
    "df = pd.read_csv('data.csv')"
   ]
  },
  {
   "cell_type": "code",
   "execution_count": 20,
   "metadata": {},
   "outputs": [
    {
     "data": {
      "text/plain": [
       "171"
      ]
     },
     "execution_count": 20,
     "metadata": {},
     "output_type": "execute_result"
    }
   ],
   "source": [
    "len(df.columns)"
   ]
  },
  {
   "cell_type": "code",
   "execution_count": 10,
   "metadata": {},
   "outputs": [
    {
     "ename": "SensorException",
     "evalue": "Error=[Error=[Error=[Train files has different number of columns] occurred in file [d:\\APS Project\\sensor\\components\\data_validation.py] on line number [111]] occurred in file [d:\\APS Project\\sensor\\pipeline\\training_pipeline.py] on line number [37]] occurred in file [d:\\APS Project\\sensor\\pipeline\\training_pipeline.py] on line number [48]",
     "output_type": "error",
     "traceback": [
      "\u001b[1;31m---------------------------------------------------------------------------\u001b[0m",
      "\u001b[1;31mException\u001b[0m                                 Traceback (most recent call last)",
      "File \u001b[1;32md:\\APS Project\\sensor\\components\\data_validation.py:111\u001b[0m, in \u001b[0;36mDataValidation.initiate_data_validation\u001b[1;34m(self)\u001b[0m\n\u001b[0;32m    110\u001b[0m     error_message \u001b[38;5;241m=\u001b[39m \u001b[38;5;124mf\u001b[39m\u001b[38;5;124m\"\u001b[39m\u001b[38;5;124mTrain files has different number of columns\u001b[39m\u001b[38;5;124m\"\u001b[39m\n\u001b[1;32m--> 111\u001b[0m     \u001b[38;5;28;01mraise\u001b[39;00m \u001b[38;5;167;01mException\u001b[39;00m(error_message)\n\u001b[0;32m    113\u001b[0m status \u001b[38;5;241m=\u001b[39m \u001b[38;5;28mself\u001b[39m\u001b[38;5;241m.\u001b[39mvalidate_number_of_columns(dataframe\u001b[38;5;241m=\u001b[39mtest_dataframe)\n",
      "\u001b[1;31mException\u001b[0m: Train files has different number of columns",
      "\nDuring handling of the above exception, another exception occurred:\n",
      "\u001b[1;31mSensorException\u001b[0m                           Traceback (most recent call last)",
      "File \u001b[1;32md:\\APS Project\\sensor\\pipeline\\training_pipeline.py:37\u001b[0m, in \u001b[0;36mTrainingPipeline.start_data_validation\u001b[1;34m(self, data_ingestion_artifact)\u001b[0m\n\u001b[0;32m     36\u001b[0m \u001b[38;5;28mself\u001b[39m\u001b[38;5;241m.\u001b[39mdata_validation \u001b[38;5;241m=\u001b[39m DataValidation(data_ingestion_artifact\u001b[38;5;241m=\u001b[39mdata_ingestion_artifact,data_validation_config\u001b[38;5;241m=\u001b[39m\u001b[38;5;28mself\u001b[39m\u001b[38;5;241m.\u001b[39mdata_validation_config)\n\u001b[1;32m---> 37\u001b[0m \u001b[38;5;28mself\u001b[39m\u001b[38;5;241m.\u001b[39mdata_validation_artifact \u001b[38;5;241m=\u001b[39m \u001b[38;5;28;43mself\u001b[39;49m\u001b[38;5;241;43m.\u001b[39;49m\u001b[43mdata_validation\u001b[49m\u001b[38;5;241;43m.\u001b[39;49m\u001b[43minitiate_data_validation\u001b[49m\u001b[43m(\u001b[49m\u001b[43m)\u001b[49m\n\u001b[0;32m     38\u001b[0m logging\u001b[38;5;241m.\u001b[39minfo(\u001b[38;5;124mf\u001b[39m\u001b[38;5;124m\"\u001b[39m\u001b[38;5;124mData validation completed and artifact: \u001b[39m\u001b[38;5;132;01m{\u001b[39;00m\u001b[38;5;28mself\u001b[39m\u001b[38;5;241m.\u001b[39mdata_validation_artifact\u001b[38;5;132;01m}\u001b[39;00m\u001b[38;5;124m\"\u001b[39m)\n",
      "File \u001b[1;32md:\\APS Project\\sensor\\components\\data_validation.py:156\u001b[0m, in \u001b[0;36mDataValidation.initiate_data_validation\u001b[1;34m(self)\u001b[0m\n\u001b[0;32m    155\u001b[0m \u001b[38;5;28;01mexcept\u001b[39;00m \u001b[38;5;167;01mException\u001b[39;00m \u001b[38;5;28;01mas\u001b[39;00m e:\n\u001b[1;32m--> 156\u001b[0m     \u001b[38;5;28;01mraise\u001b[39;00m SensorException(e,sys)\n",
      "\u001b[1;31mSensorException\u001b[0m: Error=[Train files has different number of columns] occurred in file [d:\\APS Project\\sensor\\components\\data_validation.py] on line number [111]",
      "\nDuring handling of the above exception, another exception occurred:\n",
      "\u001b[1;31mSensorException\u001b[0m                           Traceback (most recent call last)",
      "File \u001b[1;32md:\\APS Project\\sensor\\pipeline\\training_pipeline.py:48\u001b[0m, in \u001b[0;36mTrainingPipeline.run_pipeline\u001b[1;34m(self)\u001b[0m\n\u001b[0;32m     47\u001b[0m data_ingestion_artifact:DataIngestionArtifact \u001b[38;5;241m=\u001b[39m \u001b[38;5;28mself\u001b[39m\u001b[38;5;241m.\u001b[39mstart_data_ingestion()\n\u001b[1;32m---> 48\u001b[0m data_validation_artifact: DataValidationArtifact \u001b[38;5;241m=\u001b[39m \u001b[38;5;28;43mself\u001b[39;49m\u001b[38;5;241;43m.\u001b[39;49m\u001b[43mstart_data_validation\u001b[49m\u001b[43m(\u001b[49m\u001b[43mdata_ingestion_artifact\u001b[49m\u001b[43m)\u001b[49m\n\u001b[0;32m     49\u001b[0m logging\u001b[38;5;241m.\u001b[39minfo(\u001b[38;5;124mf\u001b[39m\u001b[38;5;124m\"\u001b[39m\u001b[38;5;124mtraining pipeline completed\u001b[39m\u001b[38;5;124m\"\u001b[39m)\n",
      "File \u001b[1;32md:\\APS Project\\sensor\\pipeline\\training_pipeline.py:42\u001b[0m, in \u001b[0;36mTrainingPipeline.start_data_validation\u001b[1;34m(self, data_ingestion_artifact)\u001b[0m\n\u001b[0;32m     41\u001b[0m \u001b[38;5;28;01mexcept\u001b[39;00m \u001b[38;5;167;01mException\u001b[39;00m \u001b[38;5;28;01mas\u001b[39;00m e:\n\u001b[1;32m---> 42\u001b[0m     \u001b[38;5;28;01mraise\u001b[39;00m SensorException(e,sys)\n",
      "\u001b[1;31mSensorException\u001b[0m: Error=[Error=[Train files has different number of columns] occurred in file [d:\\APS Project\\sensor\\components\\data_validation.py] on line number [111]] occurred in file [d:\\APS Project\\sensor\\pipeline\\training_pipeline.py] on line number [37]",
      "\nDuring handling of the above exception, another exception occurred:\n",
      "\u001b[1;31mSensorException\u001b[0m                           Traceback (most recent call last)",
      "Cell \u001b[1;32mIn[10], line 3\u001b[0m\n\u001b[0;32m      1\u001b[0m \u001b[38;5;28;01mfrom\u001b[39;00m \u001b[38;5;21;01msensor\u001b[39;00m\u001b[38;5;21;01m.\u001b[39;00m\u001b[38;5;21;01mpipeline\u001b[39;00m\u001b[38;5;21;01m.\u001b[39;00m\u001b[38;5;21;01mtraining_pipeline\u001b[39;00m \u001b[38;5;28;01mimport\u001b[39;00m TrainingPipeline\n\u001b[0;32m      2\u001b[0m pp1 \u001b[38;5;241m=\u001b[39m TrainingPipeline()\n\u001b[1;32m----> 3\u001b[0m \u001b[43mpp1\u001b[49m\u001b[38;5;241;43m.\u001b[39;49m\u001b[43mrun_pipeline\u001b[49m\u001b[43m(\u001b[49m\u001b[43m)\u001b[49m\n",
      "File \u001b[1;32md:\\APS Project\\sensor\\pipeline\\training_pipeline.py:52\u001b[0m, in \u001b[0;36mTrainingPipeline.run_pipeline\u001b[1;34m(self)\u001b[0m\n\u001b[0;32m     50\u001b[0m     \u001b[38;5;28;01mreturn\u001b[39;00m data_ingestion_artifact,data_validation_artifact\n\u001b[0;32m     51\u001b[0m \u001b[38;5;28;01mexcept\u001b[39;00m \u001b[38;5;167;01mException\u001b[39;00m \u001b[38;5;28;01mas\u001b[39;00m e:\n\u001b[1;32m---> 52\u001b[0m     \u001b[38;5;28;01mraise\u001b[39;00m SensorException(e,sys)\n",
      "\u001b[1;31mSensorException\u001b[0m: Error=[Error=[Error=[Train files has different number of columns] occurred in file [d:\\APS Project\\sensor\\components\\data_validation.py] on line number [111]] occurred in file [d:\\APS Project\\sensor\\pipeline\\training_pipeline.py] on line number [37]] occurred in file [d:\\APS Project\\sensor\\pipeline\\training_pipeline.py] on line number [48]"
     ]
    }
   ],
   "source": [
    "from sensor.pipeline.training_pipeline import TrainingPipeline\n",
    "pp1 = TrainingPipeline()\n",
    "pp1.run_pipeline()"
   ]
  },
  {
   "cell_type": "code",
   "execution_count": 4,
   "metadata": {},
   "outputs": [],
   "source": [
    "df = pd.read_csv('data.csv')\n",
    "df_og = pd.read_csv('data_0.csv')"
   ]
  },
  {
   "cell_type": "code",
   "execution_count": null,
   "metadata": {},
   "outputs": [],
   "source": []
  },
  {
   "cell_type": "code",
   "execution_count": 5,
   "metadata": {},
   "outputs": [],
   "source": [
    "from scipy.stats import ks_2samp\n"
   ]
  },
  {
   "cell_type": "code",
   "execution_count": 8,
   "metadata": {},
   "outputs": [],
   "source": [
    "def detect_dataset_drift(base:pd.DataFrame,current:pd.DataFrame,threshold = 0.5) :\n",
    "        try:\n",
    "            status = False\n",
    "            #if status is true, drift is detected\n",
    "            report = dict()\n",
    "\n",
    "            for column in base.columns:\n",
    "                d1 = base[column]\n",
    "                d2 = current[column]\n",
    "                is_same_dist = ks_2samp(d1,d2)\n",
    "\n",
    "                if is_same_dist.pvalue <= threshold :\n",
    "                    drift_in_col = False\n",
    "                else:\n",
    "                    drift_in_col = True\n",
    "                    status = True\n",
    "                report[column] = {\n",
    "                    \"drift_status\":drift_in_col,\n",
    "                    \"p_value\":float(is_same_dist.pvalue)\n",
    "                }\n",
    "            \n",
    "            \n",
    "            \n",
    "            return report,status\n",
    "        except Exception as e:\n",
    "            print(e)"
   ]
  },
  {
   "cell_type": "code",
   "execution_count": null,
   "metadata": {},
   "outputs": [],
   "source": [
    "detect_dataset_drift(df,df_og)"
   ]
  },
  {
   "cell_type": "code",
   "execution_count": 1,
   "metadata": {},
   "outputs": [
    {
     "ename": "SensorException",
     "evalue": "Error=[Error=[Error=[only integer scalar arrays can be converted to a scalar index] occurred in file [d:\\APS Project\\sensor\\components\\data_transformation.py] on line number [79]] occurred in file [d:\\APS Project\\sensor\\pipeline\\training_pipeline.py] on line number [50]] occurred in file [d:\\APS Project\\sensor\\pipeline\\training_pipeline.py] on line number [62]",
     "output_type": "error",
     "traceback": [
      "\u001b[1;31m---------------------------------------------------------------------------\u001b[0m",
      "\u001b[1;31mTypeError\u001b[0m                                 Traceback (most recent call last)",
      "File \u001b[1;32md:\\APS Project\\sensor\\components\\data_transformation.py:79\u001b[0m, in \u001b[0;36mDataTransformation.initiate_data_transformation\u001b[1;34m(self)\u001b[0m\n\u001b[0;32m     77\u001b[0m logging\u001b[38;5;241m.\u001b[39minfo(\u001b[38;5;124m\"\u001b[39m\u001b[38;5;124mResampling completed\u001b[39m\u001b[38;5;124m\"\u001b[39m)\n\u001b[1;32m---> 79\u001b[0m train_arr \u001b[38;5;241m=\u001b[39m \u001b[43mnp\u001b[49m\u001b[38;5;241;43m.\u001b[39;49m\u001b[43mconcatenate\u001b[49m\u001b[43m(\u001b[49m\u001b[43minput_train_feature\u001b[49m\u001b[43m,\u001b[49m\u001b[43m \u001b[49m\u001b[43mnp\u001b[49m\u001b[38;5;241;43m.\u001b[39;49m\u001b[43marray\u001b[49m\u001b[43m(\u001b[49m\u001b[43mtarget_train_feature\u001b[49m\u001b[43m)\u001b[49m\u001b[43m)\u001b[49m\n\u001b[0;32m     80\u001b[0m logging\u001b[38;5;241m.\u001b[39minfo(\u001b[38;5;124mf\u001b[39m\u001b[38;5;124m\"\u001b[39m\u001b[38;5;124mtrain array created successfully: \u001b[39m\u001b[38;5;132;01m{\u001b[39;00mtrain_arr\u001b[38;5;241m.\u001b[39mshape\u001b[38;5;132;01m}\u001b[39;00m\u001b[38;5;124m\"\u001b[39m)\n",
      "File \u001b[1;32m<__array_function__ internals>:200\u001b[0m, in \u001b[0;36mconcatenate\u001b[1;34m(*args, **kwargs)\u001b[0m\n",
      "\u001b[1;31mTypeError\u001b[0m: only integer scalar arrays can be converted to a scalar index",
      "\nDuring handling of the above exception, another exception occurred:\n",
      "\u001b[1;31mSensorException\u001b[0m                           Traceback (most recent call last)",
      "File \u001b[1;32md:\\APS Project\\sensor\\pipeline\\training_pipeline.py:50\u001b[0m, in \u001b[0;36mTrainingPipeline.start_data_transformation\u001b[1;34m(self, data_validation_artifact)\u001b[0m\n\u001b[0;32m     49\u001b[0m \u001b[38;5;28mself\u001b[39m\u001b[38;5;241m.\u001b[39mdata_transformation \u001b[38;5;241m=\u001b[39m DataTransformation(data_validation_artifact\u001b[38;5;241m=\u001b[39m\u001b[38;5;28mself\u001b[39m\u001b[38;5;241m.\u001b[39mdata_validation_artifact,data_transformation_config\u001b[38;5;241m=\u001b[39m\u001b[38;5;28mself\u001b[39m\u001b[38;5;241m.\u001b[39mdata_transformation_config)\n\u001b[1;32m---> 50\u001b[0m \u001b[38;5;28mself\u001b[39m\u001b[38;5;241m.\u001b[39mdata_transformation_artifact \u001b[38;5;241m=\u001b[39m \u001b[38;5;28;43mself\u001b[39;49m\u001b[38;5;241;43m.\u001b[39;49m\u001b[43mdata_transformation\u001b[49m\u001b[38;5;241;43m.\u001b[39;49m\u001b[43minitiate_data_transformation\u001b[49m\u001b[43m(\u001b[49m\u001b[43m)\u001b[49m\n\u001b[0;32m     51\u001b[0m logging\u001b[38;5;241m.\u001b[39minfo(\u001b[38;5;124mf\u001b[39m\u001b[38;5;124m\"\u001b[39m\u001b[38;5;124mData transformation completed and artifact: \u001b[39m\u001b[38;5;132;01m{\u001b[39;00m\u001b[38;5;28mself\u001b[39m\u001b[38;5;241m.\u001b[39mdata_transformation_artifact\u001b[38;5;132;01m}\u001b[39;00m\u001b[38;5;124m\"\u001b[39m)\n",
      "File \u001b[1;32md:\\APS Project\\sensor\\components\\data_transformation.py:104\u001b[0m, in \u001b[0;36mDataTransformation.initiate_data_transformation\u001b[1;34m(self)\u001b[0m\n\u001b[0;32m    103\u001b[0m \u001b[38;5;28;01mexcept\u001b[39;00m \u001b[38;5;167;01mException\u001b[39;00m \u001b[38;5;28;01mas\u001b[39;00m e:\n\u001b[1;32m--> 104\u001b[0m     \u001b[38;5;28;01mraise\u001b[39;00m SensorException(e,sys)\n",
      "\u001b[1;31mSensorException\u001b[0m: Error=[only integer scalar arrays can be converted to a scalar index] occurred in file [d:\\APS Project\\sensor\\components\\data_transformation.py] on line number [79]",
      "\nDuring handling of the above exception, another exception occurred:\n",
      "\u001b[1;31mSensorException\u001b[0m                           Traceback (most recent call last)",
      "File \u001b[1;32md:\\APS Project\\sensor\\pipeline\\training_pipeline.py:62\u001b[0m, in \u001b[0;36mTrainingPipeline.run_pipeline\u001b[1;34m(self)\u001b[0m\n\u001b[0;32m     61\u001b[0m data_validation_artifact: DataValidationArtifact \u001b[38;5;241m=\u001b[39m \u001b[38;5;28mself\u001b[39m\u001b[38;5;241m.\u001b[39mstart_data_validation(data_ingestion_artifact)\n\u001b[1;32m---> 62\u001b[0m data_transformation_artifact: DataIngestionArtifact \u001b[38;5;241m=\u001b[39m \u001b[38;5;28;43mself\u001b[39;49m\u001b[38;5;241;43m.\u001b[39;49m\u001b[43mstart_data_transformation\u001b[49m\u001b[43m(\u001b[49m\u001b[43mdata_validation_artifact\u001b[49m\u001b[43m)\u001b[49m\n\u001b[0;32m     63\u001b[0m logging\u001b[38;5;241m.\u001b[39minfo(\u001b[38;5;124mf\u001b[39m\u001b[38;5;124m\"\u001b[39m\u001b[38;5;124mtraining pipeline completed\u001b[39m\u001b[38;5;124m\"\u001b[39m)\n",
      "File \u001b[1;32md:\\APS Project\\sensor\\pipeline\\training_pipeline.py:55\u001b[0m, in \u001b[0;36mTrainingPipeline.start_data_transformation\u001b[1;34m(self, data_validation_artifact)\u001b[0m\n\u001b[0;32m     54\u001b[0m \u001b[38;5;28;01mexcept\u001b[39;00m \u001b[38;5;167;01mException\u001b[39;00m \u001b[38;5;28;01mas\u001b[39;00m e:\n\u001b[1;32m---> 55\u001b[0m     \u001b[38;5;28;01mraise\u001b[39;00m SensorException(e,sys)\n",
      "\u001b[1;31mSensorException\u001b[0m: Error=[Error=[only integer scalar arrays can be converted to a scalar index] occurred in file [d:\\APS Project\\sensor\\components\\data_transformation.py] on line number [79]] occurred in file [d:\\APS Project\\sensor\\pipeline\\training_pipeline.py] on line number [50]",
      "\nDuring handling of the above exception, another exception occurred:\n",
      "\u001b[1;31mSensorException\u001b[0m                           Traceback (most recent call last)",
      "Cell \u001b[1;32mIn[1], line 3\u001b[0m\n\u001b[0;32m      1\u001b[0m \u001b[38;5;28;01mfrom\u001b[39;00m \u001b[38;5;21;01msensor\u001b[39;00m\u001b[38;5;21;01m.\u001b[39;00m\u001b[38;5;21;01mpipeline\u001b[39;00m\u001b[38;5;21;01m.\u001b[39;00m\u001b[38;5;21;01mtraining_pipeline\u001b[39;00m \u001b[38;5;28;01mimport\u001b[39;00m TrainingPipeline\n\u001b[0;32m      2\u001b[0m pp1 \u001b[38;5;241m=\u001b[39m TrainingPipeline()\n\u001b[1;32m----> 3\u001b[0m \u001b[43mpp1\u001b[49m\u001b[38;5;241;43m.\u001b[39;49m\u001b[43mrun_pipeline\u001b[49m\u001b[43m(\u001b[49m\u001b[43m)\u001b[49m\n",
      "File \u001b[1;32md:\\APS Project\\sensor\\pipeline\\training_pipeline.py:67\u001b[0m, in \u001b[0;36mTrainingPipeline.run_pipeline\u001b[1;34m(self)\u001b[0m\n\u001b[0;32m     65\u001b[0m     \u001b[38;5;28;01mreturn\u001b[39;00m data_transformation_artifact\n\u001b[0;32m     66\u001b[0m \u001b[38;5;28;01mexcept\u001b[39;00m \u001b[38;5;167;01mException\u001b[39;00m \u001b[38;5;28;01mas\u001b[39;00m e:\n\u001b[1;32m---> 67\u001b[0m     \u001b[38;5;28;01mraise\u001b[39;00m SensorException(e,sys)\n",
      "\u001b[1;31mSensorException\u001b[0m: Error=[Error=[Error=[only integer scalar arrays can be converted to a scalar index] occurred in file [d:\\APS Project\\sensor\\components\\data_transformation.py] on line number [79]] occurred in file [d:\\APS Project\\sensor\\pipeline\\training_pipeline.py] on line number [50]] occurred in file [d:\\APS Project\\sensor\\pipeline\\training_pipeline.py] on line number [62]"
     ]
    }
   ],
   "source": [
    "from sensor.pipeline.training_pipeline import TrainingPipeline\n",
    "pp1 = TrainingPipeline()\n",
    "pp1.run_pipeline()"
   ]
  },
  {
   "cell_type": "code",
   "execution_count": 2,
   "metadata": {},
   "outputs": [],
   "source": [
    "import numpy as np"
   ]
  },
  {
   "cell_type": "code",
   "execution_count": null,
   "metadata": {},
   "outputs": [],
   "source": [
    "np.c_()"
   ]
  }
 ],
 "metadata": {
  "kernelspec": {
   "display_name": "myenv",
   "language": "python",
   "name": "python3"
  },
  "language_info": {
   "codemirror_mode": {
    "name": "ipython",
    "version": 3
   },
   "file_extension": ".py",
   "mimetype": "text/x-python",
   "name": "python",
   "nbconvert_exporter": "python",
   "pygments_lexer": "ipython3",
   "version": "3.8.19"
  }
 },
 "nbformat": 4,
 "nbformat_minor": 2
}
