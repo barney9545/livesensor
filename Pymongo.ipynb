{
 "cells": [
  {
   "cell_type": "code",
   "execution_count": 3,
   "metadata": {},
   "outputs": [],
   "source": [
    "import pymongo\n",
    "from pymongo import MongoClient\n",
    "import pandas as pd"
   ]
  },
  {
   "cell_type": "code",
   "execution_count": 3,
   "metadata": {},
   "outputs": [],
   "source": [
    "connection_string = 'mongodb+srv://CnBUser:<password>@cluster0.n2pbusl.mongodb.net/?retryWrites=true&w=majority&appName=Cluster0'"
   ]
  },
  {
   "cell_type": "code",
   "execution_count": 6,
   "metadata": {},
   "outputs": [],
   "source": [
    "client = MongoClient(connection_string)"
   ]
  },
  {
   "cell_type": "code",
   "execution_count": 8,
   "metadata": {},
   "outputs": [],
   "source": [
    "db = client['APS_Project']"
   ]
  },
  {
   "cell_type": "code",
   "execution_count": 9,
   "metadata": {},
   "outputs": [],
   "source": [
    "collection = db[\"monog_class\"]"
   ]
  },
  {
   "cell_type": "code",
   "execution_count": 10,
   "metadata": {},
   "outputs": [],
   "source": [
    "data = {\n",
    "    'name':'Darshan',\n",
    "    'age':'24'\n",
    "}"
   ]
  },
  {
   "cell_type": "code",
   "execution_count": 11,
   "metadata": {},
   "outputs": [
    {
     "data": {
      "text/plain": [
       "<pymongo.results.InsertOneResult at 0x185c5f13910>"
      ]
     },
     "execution_count": 11,
     "metadata": {},
     "output_type": "execute_result"
    }
   ],
   "source": [
    "collection.insert_one(data)"
   ]
  },
  {
   "cell_type": "code",
   "execution_count": 13,
   "metadata": {},
   "outputs": [
    {
     "name": "stdout",
     "output_type": "stream",
     "text": [
      "{'_id': ObjectId('66756b6c5b6ece0b014a5140'), 'name': 'Darshan', 'age': '24'}\n"
     ]
    }
   ],
   "source": [
    "cursor = collection.find({})\n",
    "for i in cursor:\n",
    "    print(i)"
   ]
  },
  {
   "cell_type": "code",
   "execution_count": null,
   "metadata": {},
   "outputs": [],
   "source": [
    "#compass is the GUI for mongo db "
   ]
  },
  {
   "cell_type": "code",
   "execution_count": 1,
   "metadata": {},
   "outputs": [],
   "source": [
    "from sensor.utils.main_utils import read_yaml_file"
   ]
  },
  {
   "cell_type": "code",
   "execution_count": 3,
   "metadata": {},
   "outputs": [],
   "source": [
    "file = read_yaml_file('config\\schema.yaml')"
   ]
  },
  {
   "cell_type": "code",
   "execution_count": 7,
   "metadata": {},
   "outputs": [
    {
     "data": {
      "text/plain": [
       "163"
      ]
     },
     "execution_count": 7,
     "metadata": {},
     "output_type": "execute_result"
    }
   ],
   "source": [
    "len(file['numerical_columns'])"
   ]
  },
  {
   "cell_type": "code",
   "execution_count": 9,
   "metadata": {},
   "outputs": [
    {
     "data": {
      "text/plain": [
       "dict_keys(['columns', 'numerical_columns', 'drop_columns'])"
      ]
     },
     "execution_count": 9,
     "metadata": {},
     "output_type": "execute_result"
    }
   ],
   "source": [
    "file.keys()"
   ]
  },
  {
   "cell_type": "code",
   "execution_count": 1,
   "metadata": {},
   "outputs": [],
   "source": [
    "from sensor.entity import artifacts_entity"
   ]
  },
  {
   "cell_type": "code",
   "execution_count": 3,
   "metadata": {},
   "outputs": [],
   "source": [
    "a = artifacts_entity.DataIngestionArtifact"
   ]
  },
  {
   "cell_type": "code",
   "execution_count": 22,
   "metadata": {},
   "outputs": [
    {
     "ename": "SensorException",
     "evalue": "Error=[Error=[Error=['NoneType' object has no attribute 'train_file_path'] occurred in file [d:\\APS Project\\sensor\\components\\data_validation.py] on line number [97]] occurred in file [d:\\APS Project\\sensor\\pipeline\\training_pipeline.py] on line number [37]] occurred in file [d:\\APS Project\\sensor\\pipeline\\training_pipeline.py] on line number [48]",
     "output_type": "error",
     "traceback": [
      "\u001b[1;31m---------------------------------------------------------------------------\u001b[0m",
      "\u001b[1;31mAttributeError\u001b[0m                            Traceback (most recent call last)",
      "File \u001b[1;32md:\\APS Project\\sensor\\components\\data_validation.py:97\u001b[0m, in \u001b[0;36mDataValidation.initiate_data_validation\u001b[1;34m(self)\u001b[0m\n\u001b[0;32m     96\u001b[0m \u001b[38;5;28;01mtry\u001b[39;00m:\n\u001b[1;32m---> 97\u001b[0m     train_file_path \u001b[38;5;241m=\u001b[39m \u001b[38;5;28;43mself\u001b[39;49m\u001b[38;5;241;43m.\u001b[39;49m\u001b[43mdata_ingestion_artifact\u001b[49m\u001b[38;5;241;43m.\u001b[39;49m\u001b[43mtrain_file_path\u001b[49m\n\u001b[0;32m     98\u001b[0m     test_file_path \u001b[38;5;241m=\u001b[39m \u001b[38;5;28mself\u001b[39m\u001b[38;5;241m.\u001b[39mdata_ingestion_artifact\u001b[38;5;241m.\u001b[39mtest_file_path\n",
      "\u001b[1;31mAttributeError\u001b[0m: 'NoneType' object has no attribute 'train_file_path'",
      "\nDuring handling of the above exception, another exception occurred:\n",
      "\u001b[1;31mSensorException\u001b[0m                           Traceback (most recent call last)",
      "File \u001b[1;32md:\\APS Project\\sensor\\pipeline\\training_pipeline.py:37\u001b[0m, in \u001b[0;36mTrainingPipeline.start_data_validation\u001b[1;34m(self, data_ingestion_artifact)\u001b[0m\n\u001b[0;32m     36\u001b[0m \u001b[38;5;28mself\u001b[39m\u001b[38;5;241m.\u001b[39mdata_validation \u001b[38;5;241m=\u001b[39m DataValidation(data_ingestion_artifact\u001b[38;5;241m=\u001b[39mdata_ingestion_artifact,data_validation_config\u001b[38;5;241m=\u001b[39m\u001b[38;5;28mself\u001b[39m\u001b[38;5;241m.\u001b[39mdata_validation_config)\n\u001b[1;32m---> 37\u001b[0m \u001b[38;5;28mself\u001b[39m\u001b[38;5;241m.\u001b[39mdata_validation_artifact \u001b[38;5;241m=\u001b[39m \u001b[38;5;28;43mself\u001b[39;49m\u001b[38;5;241;43m.\u001b[39;49m\u001b[43mdata_validation\u001b[49m\u001b[38;5;241;43m.\u001b[39;49m\u001b[43minitiate_data_validation\u001b[49m\u001b[43m(\u001b[49m\u001b[43m)\u001b[49m\n\u001b[0;32m     38\u001b[0m logging\u001b[38;5;241m.\u001b[39minfo(\u001b[38;5;124mf\u001b[39m\u001b[38;5;124m\"\u001b[39m\u001b[38;5;124mData validation completed and artifact: \u001b[39m\u001b[38;5;132;01m{\u001b[39;00m\u001b[38;5;28mself\u001b[39m\u001b[38;5;241m.\u001b[39mdata_validation_artifact\u001b[38;5;132;01m}\u001b[39;00m\u001b[38;5;124m\"\u001b[39m)\n",
      "File \u001b[1;32md:\\APS Project\\sensor\\components\\data_validation.py:154\u001b[0m, in \u001b[0;36mDataValidation.initiate_data_validation\u001b[1;34m(self)\u001b[0m\n\u001b[0;32m    153\u001b[0m \u001b[38;5;28;01mexcept\u001b[39;00m \u001b[38;5;167;01mException\u001b[39;00m \u001b[38;5;28;01mas\u001b[39;00m e:\n\u001b[1;32m--> 154\u001b[0m     \u001b[38;5;28;01mraise\u001b[39;00m SensorException(e,sys)\n",
      "\u001b[1;31mSensorException\u001b[0m: Error=['NoneType' object has no attribute 'train_file_path'] occurred in file [d:\\APS Project\\sensor\\components\\data_validation.py] on line number [97]",
      "\nDuring handling of the above exception, another exception occurred:\n",
      "\u001b[1;31mSensorException\u001b[0m                           Traceback (most recent call last)",
      "File \u001b[1;32md:\\APS Project\\sensor\\pipeline\\training_pipeline.py:48\u001b[0m, in \u001b[0;36mTrainingPipeline.run_pipeline\u001b[1;34m(self)\u001b[0m\n\u001b[0;32m     47\u001b[0m data_ingestion_artifact:DataIngestionArtifact \u001b[38;5;241m=\u001b[39m \u001b[38;5;28mself\u001b[39m\u001b[38;5;241m.\u001b[39mstart_data_ingestion()\n\u001b[1;32m---> 48\u001b[0m data_validation_artifact: DataValidationArtifact \u001b[38;5;241m=\u001b[39m \u001b[38;5;28;43mself\u001b[39;49m\u001b[38;5;241;43m.\u001b[39;49m\u001b[43mstart_data_validation\u001b[49m\u001b[43m(\u001b[49m\u001b[43mdata_ingestion_artifact\u001b[49m\u001b[43m)\u001b[49m\n\u001b[0;32m     49\u001b[0m logging\u001b[38;5;241m.\u001b[39minfo(\u001b[38;5;124mf\u001b[39m\u001b[38;5;124m\"\u001b[39m\u001b[38;5;124mtraining pipeline completed\u001b[39m\u001b[38;5;124m\"\u001b[39m)\n",
      "File \u001b[1;32md:\\APS Project\\sensor\\pipeline\\training_pipeline.py:42\u001b[0m, in \u001b[0;36mTrainingPipeline.start_data_validation\u001b[1;34m(self, data_ingestion_artifact)\u001b[0m\n\u001b[0;32m     41\u001b[0m \u001b[38;5;28;01mexcept\u001b[39;00m \u001b[38;5;167;01mException\u001b[39;00m \u001b[38;5;28;01mas\u001b[39;00m e:\n\u001b[1;32m---> 42\u001b[0m     \u001b[38;5;28;01mraise\u001b[39;00m SensorException(e,sys)\n",
      "\u001b[1;31mSensorException\u001b[0m: Error=[Error=['NoneType' object has no attribute 'train_file_path'] occurred in file [d:\\APS Project\\sensor\\components\\data_validation.py] on line number [97]] occurred in file [d:\\APS Project\\sensor\\pipeline\\training_pipeline.py] on line number [37]",
      "\nDuring handling of the above exception, another exception occurred:\n",
      "\u001b[1;31mSensorException\u001b[0m                           Traceback (most recent call last)",
      "Cell \u001b[1;32mIn[22], line 3\u001b[0m\n\u001b[0;32m      1\u001b[0m \u001b[38;5;28;01mfrom\u001b[39;00m \u001b[38;5;21;01msensor\u001b[39;00m\u001b[38;5;21;01m.\u001b[39;00m\u001b[38;5;21;01mpipeline\u001b[39;00m\u001b[38;5;21;01m.\u001b[39;00m\u001b[38;5;21;01mtraining_pipeline\u001b[39;00m \u001b[38;5;28;01mimport\u001b[39;00m TrainingPipeline\n\u001b[0;32m      2\u001b[0m pp1 \u001b[38;5;241m=\u001b[39m TrainingPipeline() \n\u001b[1;32m----> 3\u001b[0m \u001b[43mpp1\u001b[49m\u001b[38;5;241;43m.\u001b[39;49m\u001b[43mrun_pipeline\u001b[49m\u001b[43m(\u001b[49m\u001b[43m)\u001b[49m\n",
      "File \u001b[1;32md:\\APS Project\\sensor\\pipeline\\training_pipeline.py:52\u001b[0m, in \u001b[0;36mTrainingPipeline.run_pipeline\u001b[1;34m(self)\u001b[0m\n\u001b[0;32m     50\u001b[0m     \u001b[38;5;28;01mreturn\u001b[39;00m data_ingestion_artifact,data_validation_artifact\n\u001b[0;32m     51\u001b[0m \u001b[38;5;28;01mexcept\u001b[39;00m \u001b[38;5;167;01mException\u001b[39;00m \u001b[38;5;28;01mas\u001b[39;00m e:\n\u001b[1;32m---> 52\u001b[0m     \u001b[38;5;28;01mraise\u001b[39;00m SensorException(e,sys)\n",
      "\u001b[1;31mSensorException\u001b[0m: Error=[Error=[Error=['NoneType' object has no attribute 'train_file_path'] occurred in file [d:\\APS Project\\sensor\\components\\data_validation.py] on line number [97]] occurred in file [d:\\APS Project\\sensor\\pipeline\\training_pipeline.py] on line number [37]] occurred in file [d:\\APS Project\\sensor\\pipeline\\training_pipeline.py] on line number [48]"
     ]
    }
   ],
   "source": [
    "from sensor.pipeline.training_pipeline import TrainingPipeline\n",
    "pp1 = TrainingPipeline() \n",
    "pp1.run_pipeline()"
   ]
  },
  {
   "cell_type": "code",
   "execution_count": 10,
   "metadata": {},
   "outputs": [
    {
     "ename": "AttributeError",
     "evalue": "'NoneType' object has no attribute '__dict__'",
     "output_type": "error",
     "traceback": [
      "\u001b[1;31m---------------------------------------------------------------------------\u001b[0m",
      "\u001b[1;31mAttributeError\u001b[0m                            Traceback (most recent call last)",
      "Cell \u001b[1;32mIn[10], line 1\u001b[0m\n\u001b[1;32m----> 1\u001b[0m \u001b[43mpp1\u001b[49m\u001b[38;5;241;43m.\u001b[39;49m\u001b[43mdata_ingestion_artifact\u001b[49m\u001b[38;5;241;43m.\u001b[39;49m\u001b[38;5;18;43m__dict__\u001b[39;49m\n",
      "\u001b[1;31mAttributeError\u001b[0m: 'NoneType' object has no attribute '__dict__'"
     ]
    }
   ],
   "source": []
  },
  {
   "cell_type": "code",
   "execution_count": 19,
   "metadata": {},
   "outputs": [],
   "source": [
    "df = pd.read_csv('data.csv')"
   ]
  },
  {
   "cell_type": "code",
   "execution_count": 20,
   "metadata": {},
   "outputs": [
    {
     "data": {
      "text/plain": [
       "171"
      ]
     },
     "execution_count": 20,
     "metadata": {},
     "output_type": "execute_result"
    }
   ],
   "source": [
    "len(df.columns)"
   ]
  },
  {
   "cell_type": "code",
   "execution_count": 1,
   "metadata": {},
   "outputs": [
    {
     "ename": "SensorException",
     "evalue": "Error=[Error=[Error=[Data Drift detected between train and test dataset] occurred in file [d:\\APS Project\\sensor\\components\\data_validation.py] on line number [138]] occurred in file [d:\\APS Project\\sensor\\pipeline\\training_pipeline.py] on line number [37]] occurred in file [d:\\APS Project\\sensor\\pipeline\\training_pipeline.py] on line number [48]",
     "output_type": "error",
     "traceback": [
      "\u001b[1;31m---------------------------------------------------------------------------\u001b[0m",
      "\u001b[1;31mException\u001b[0m                                 Traceback (most recent call last)",
      "File \u001b[1;32md:\\APS Project\\sensor\\components\\data_validation.py:138\u001b[0m, in \u001b[0;36mDataValidation.initiate_data_validation\u001b[1;34m(self)\u001b[0m\n\u001b[0;32m    137\u001b[0m     error_message \u001b[38;5;241m=\u001b[39m \u001b[38;5;124mf\u001b[39m\u001b[38;5;124m\"\u001b[39m\u001b[38;5;124mData Drift detected between train and test dataset\u001b[39m\u001b[38;5;124m\"\u001b[39m\n\u001b[1;32m--> 138\u001b[0m     \u001b[38;5;28;01mraise\u001b[39;00m \u001b[38;5;167;01mException\u001b[39;00m(error_message)\n\u001b[0;32m    139\u001b[0m logging\u001b[38;5;241m.\u001b[39minfo(\u001b[38;5;124m\"\u001b[39m\u001b[38;5;124mvalidated dataset drift\u001b[39m\u001b[38;5;124m\"\u001b[39m)\n",
      "\u001b[1;31mException\u001b[0m: Data Drift detected between train and test dataset",
      "\nDuring handling of the above exception, another exception occurred:\n",
      "\u001b[1;31mSensorException\u001b[0m                           Traceback (most recent call last)",
      "File \u001b[1;32md:\\APS Project\\sensor\\pipeline\\training_pipeline.py:37\u001b[0m, in \u001b[0;36mTrainingPipeline.start_data_validation\u001b[1;34m(self, data_ingestion_artifact)\u001b[0m\n\u001b[0;32m     36\u001b[0m \u001b[38;5;28mself\u001b[39m\u001b[38;5;241m.\u001b[39mdata_validation \u001b[38;5;241m=\u001b[39m DataValidation(data_ingestion_artifact\u001b[38;5;241m=\u001b[39mdata_ingestion_artifact,data_validation_config\u001b[38;5;241m=\u001b[39m\u001b[38;5;28mself\u001b[39m\u001b[38;5;241m.\u001b[39mdata_validation_config)\n\u001b[1;32m---> 37\u001b[0m \u001b[38;5;28mself\u001b[39m\u001b[38;5;241m.\u001b[39mdata_validation_artifact \u001b[38;5;241m=\u001b[39m \u001b[38;5;28;43mself\u001b[39;49m\u001b[38;5;241;43m.\u001b[39;49m\u001b[43mdata_validation\u001b[49m\u001b[38;5;241;43m.\u001b[39;49m\u001b[43minitiate_data_validation\u001b[49m\u001b[43m(\u001b[49m\u001b[43m)\u001b[49m\n\u001b[0;32m     38\u001b[0m logging\u001b[38;5;241m.\u001b[39minfo(\u001b[38;5;124mf\u001b[39m\u001b[38;5;124m\"\u001b[39m\u001b[38;5;124mData validation completed and artifact: \u001b[39m\u001b[38;5;132;01m{\u001b[39;00m\u001b[38;5;28mself\u001b[39m\u001b[38;5;241m.\u001b[39mdata_validation_artifact\u001b[38;5;132;01m}\u001b[39;00m\u001b[38;5;124m\"\u001b[39m)\n",
      "File \u001b[1;32md:\\APS Project\\sensor\\components\\data_validation.py:156\u001b[0m, in \u001b[0;36mDataValidation.initiate_data_validation\u001b[1;34m(self)\u001b[0m\n\u001b[0;32m    155\u001b[0m \u001b[38;5;28;01mexcept\u001b[39;00m \u001b[38;5;167;01mException\u001b[39;00m \u001b[38;5;28;01mas\u001b[39;00m e:\n\u001b[1;32m--> 156\u001b[0m     \u001b[38;5;28;01mraise\u001b[39;00m SensorException(e,sys)\n",
      "\u001b[1;31mSensorException\u001b[0m: Error=[Data Drift detected between train and test dataset] occurred in file [d:\\APS Project\\sensor\\components\\data_validation.py] on line number [138]",
      "\nDuring handling of the above exception, another exception occurred:\n",
      "\u001b[1;31mSensorException\u001b[0m                           Traceback (most recent call last)",
      "File \u001b[1;32md:\\APS Project\\sensor\\pipeline\\training_pipeline.py:48\u001b[0m, in \u001b[0;36mTrainingPipeline.run_pipeline\u001b[1;34m(self)\u001b[0m\n\u001b[0;32m     47\u001b[0m data_ingestion_artifact:DataIngestionArtifact \u001b[38;5;241m=\u001b[39m \u001b[38;5;28mself\u001b[39m\u001b[38;5;241m.\u001b[39mstart_data_ingestion()\n\u001b[1;32m---> 48\u001b[0m data_validation_artifact: DataValidationArtifact \u001b[38;5;241m=\u001b[39m \u001b[38;5;28;43mself\u001b[39;49m\u001b[38;5;241;43m.\u001b[39;49m\u001b[43mstart_data_validation\u001b[49m\u001b[43m(\u001b[49m\u001b[43mdata_ingestion_artifact\u001b[49m\u001b[43m)\u001b[49m\n\u001b[0;32m     49\u001b[0m logging\u001b[38;5;241m.\u001b[39minfo(\u001b[38;5;124mf\u001b[39m\u001b[38;5;124m\"\u001b[39m\u001b[38;5;124mtraining pipeline completed\u001b[39m\u001b[38;5;124m\"\u001b[39m)\n",
      "File \u001b[1;32md:\\APS Project\\sensor\\pipeline\\training_pipeline.py:42\u001b[0m, in \u001b[0;36mTrainingPipeline.start_data_validation\u001b[1;34m(self, data_ingestion_artifact)\u001b[0m\n\u001b[0;32m     41\u001b[0m \u001b[38;5;28;01mexcept\u001b[39;00m \u001b[38;5;167;01mException\u001b[39;00m \u001b[38;5;28;01mas\u001b[39;00m e:\n\u001b[1;32m---> 42\u001b[0m     \u001b[38;5;28;01mraise\u001b[39;00m SensorException(e,sys)\n",
      "\u001b[1;31mSensorException\u001b[0m: Error=[Error=[Data Drift detected between train and test dataset] occurred in file [d:\\APS Project\\sensor\\components\\data_validation.py] on line number [138]] occurred in file [d:\\APS Project\\sensor\\pipeline\\training_pipeline.py] on line number [37]",
      "\nDuring handling of the above exception, another exception occurred:\n",
      "\u001b[1;31mSensorException\u001b[0m                           Traceback (most recent call last)",
      "Cell \u001b[1;32mIn[1], line 3\u001b[0m\n\u001b[0;32m      1\u001b[0m \u001b[38;5;28;01mfrom\u001b[39;00m \u001b[38;5;21;01msensor\u001b[39;00m\u001b[38;5;21;01m.\u001b[39;00m\u001b[38;5;21;01mpipeline\u001b[39;00m\u001b[38;5;21;01m.\u001b[39;00m\u001b[38;5;21;01mtraining_pipeline\u001b[39;00m \u001b[38;5;28;01mimport\u001b[39;00m TrainingPipeline\n\u001b[0;32m      2\u001b[0m pp1 \u001b[38;5;241m=\u001b[39m TrainingPipeline()\n\u001b[1;32m----> 3\u001b[0m \u001b[43mpp1\u001b[49m\u001b[38;5;241;43m.\u001b[39;49m\u001b[43mrun_pipeline\u001b[49m\u001b[43m(\u001b[49m\u001b[43m)\u001b[49m\n",
      "File \u001b[1;32md:\\APS Project\\sensor\\pipeline\\training_pipeline.py:52\u001b[0m, in \u001b[0;36mTrainingPipeline.run_pipeline\u001b[1;34m(self)\u001b[0m\n\u001b[0;32m     50\u001b[0m     \u001b[38;5;28;01mreturn\u001b[39;00m data_ingestion_artifact,data_validation_artifact\n\u001b[0;32m     51\u001b[0m \u001b[38;5;28;01mexcept\u001b[39;00m \u001b[38;5;167;01mException\u001b[39;00m \u001b[38;5;28;01mas\u001b[39;00m e:\n\u001b[1;32m---> 52\u001b[0m     \u001b[38;5;28;01mraise\u001b[39;00m SensorException(e,sys)\n",
      "\u001b[1;31mSensorException\u001b[0m: Error=[Error=[Error=[Data Drift detected between train and test dataset] occurred in file [d:\\APS Project\\sensor\\components\\data_validation.py] on line number [138]] occurred in file [d:\\APS Project\\sensor\\pipeline\\training_pipeline.py] on line number [37]] occurred in file [d:\\APS Project\\sensor\\pipeline\\training_pipeline.py] on line number [48]"
     ]
    }
   ],
   "source": [
    "from sensor.pipeline.training_pipeline import TrainingPipeline\n",
    "pp1 = TrainingPipeline()\n",
    "pp1.run_pipeline()"
   ]
  },
  {
   "cell_type": "code",
   "execution_count": 4,
   "metadata": {},
   "outputs": [],
   "source": [
    "df = pd.read_csv('data.csv')\n",
    "df_og = pd.read_csv('data_0.csv')"
   ]
  },
  {
   "cell_type": "code",
   "execution_count": null,
   "metadata": {},
   "outputs": [],
   "source": []
  },
  {
   "cell_type": "code",
   "execution_count": 5,
   "metadata": {},
   "outputs": [],
   "source": [
    "from scipy.stats import ks_2samp\n"
   ]
  },
  {
   "cell_type": "code",
   "execution_count": 8,
   "metadata": {},
   "outputs": [],
   "source": [
    "def detect_dataset_drift(base:pd.DataFrame,current:pd.DataFrame,threshold = 0.5) :\n",
    "        try:\n",
    "            status = False\n",
    "            #if status is true, drift is detected\n",
    "            report = dict()\n",
    "\n",
    "            for column in base.columns:\n",
    "                d1 = base[column]\n",
    "                d2 = current[column]\n",
    "                is_same_dist = ks_2samp(d1,d2)\n",
    "\n",
    "                if is_same_dist.pvalue <= threshold :\n",
    "                    drift_in_col = False\n",
    "                else:\n",
    "                    drift_in_col = True\n",
    "                    status = True\n",
    "                report[column] = {\n",
    "                    \"drift_status\":drift_in_col,\n",
    "                    \"p_value\":float(is_same_dist.pvalue)\n",
    "                }\n",
    "            \n",
    "            \n",
    "            \n",
    "            return report,status\n",
    "        except Exception as e:\n",
    "            print(e)"
   ]
  },
  {
   "cell_type": "code",
   "execution_count": 9,
   "metadata": {},
   "outputs": [
    {
     "data": {
      "text/plain": [
       "({'class': {'drift_status': True, 'p_value': 1.0},\n",
       "  'aa_000': {'drift_status': True, 'p_value': 1.0},\n",
       "  'ab_000': {'drift_status': True, 'p_value': 1.0},\n",
       "  'ac_000': {'drift_status': True, 'p_value': 1.0},\n",
       "  'ad_000': {'drift_status': True, 'p_value': 1.0},\n",
       "  'ae_000': {'drift_status': True, 'p_value': 1.0},\n",
       "  'af_000': {'drift_status': True, 'p_value': 1.0},\n",
       "  'ag_000': {'drift_status': True, 'p_value': 1.0},\n",
       "  'ag_001': {'drift_status': True, 'p_value': 1.0},\n",
       "  'ag_002': {'drift_status': True, 'p_value': 1.0},\n",
       "  'ag_003': {'drift_status': True, 'p_value': 1.0},\n",
       "  'ag_004': {'drift_status': True, 'p_value': 1.0},\n",
       "  'ag_005': {'drift_status': True, 'p_value': 1.0},\n",
       "  'ag_006': {'drift_status': True, 'p_value': 1.0},\n",
       "  'ag_007': {'drift_status': True, 'p_value': 1.0},\n",
       "  'ag_008': {'drift_status': True, 'p_value': 1.0},\n",
       "  'ag_009': {'drift_status': True, 'p_value': 1.0},\n",
       "  'ah_000': {'drift_status': True, 'p_value': 1.0},\n",
       "  'ai_000': {'drift_status': True, 'p_value': 1.0},\n",
       "  'aj_000': {'drift_status': True, 'p_value': 1.0},\n",
       "  'ak_000': {'drift_status': True, 'p_value': 1.0},\n",
       "  'al_000': {'drift_status': True, 'p_value': 1.0},\n",
       "  'am_0': {'drift_status': True, 'p_value': 1.0},\n",
       "  'an_000': {'drift_status': True, 'p_value': 1.0},\n",
       "  'ao_000': {'drift_status': True, 'p_value': 1.0},\n",
       "  'ap_000': {'drift_status': True, 'p_value': 1.0},\n",
       "  'aq_000': {'drift_status': True, 'p_value': 1.0},\n",
       "  'ar_000': {'drift_status': True, 'p_value': 1.0},\n",
       "  'as_000': {'drift_status': True, 'p_value': 1.0},\n",
       "  'at_000': {'drift_status': True, 'p_value': 1.0},\n",
       "  'au_000': {'drift_status': True, 'p_value': 1.0},\n",
       "  'av_000': {'drift_status': True, 'p_value': 1.0},\n",
       "  'ax_000': {'drift_status': True, 'p_value': 1.0},\n",
       "  'ay_000': {'drift_status': True, 'p_value': 1.0},\n",
       "  'ay_001': {'drift_status': True, 'p_value': 1.0},\n",
       "  'ay_002': {'drift_status': True, 'p_value': 1.0},\n",
       "  'ay_003': {'drift_status': True, 'p_value': 1.0},\n",
       "  'ay_004': {'drift_status': True, 'p_value': 1.0},\n",
       "  'ay_005': {'drift_status': True, 'p_value': 1.0},\n",
       "  'ay_006': {'drift_status': True, 'p_value': 1.0},\n",
       "  'ay_007': {'drift_status': True, 'p_value': 1.0},\n",
       "  'ay_008': {'drift_status': True, 'p_value': 1.0},\n",
       "  'ay_009': {'drift_status': True, 'p_value': 1.0},\n",
       "  'az_000': {'drift_status': True, 'p_value': 1.0},\n",
       "  'az_001': {'drift_status': True, 'p_value': 1.0},\n",
       "  'az_002': {'drift_status': True, 'p_value': 1.0},\n",
       "  'az_003': {'drift_status': True, 'p_value': 1.0},\n",
       "  'az_004': {'drift_status': True, 'p_value': 1.0},\n",
       "  'az_005': {'drift_status': True, 'p_value': 1.0},\n",
       "  'az_006': {'drift_status': True, 'p_value': 1.0},\n",
       "  'az_007': {'drift_status': True, 'p_value': 1.0},\n",
       "  'az_008': {'drift_status': True, 'p_value': 1.0},\n",
       "  'az_009': {'drift_status': True, 'p_value': 1.0},\n",
       "  'ba_000': {'drift_status': True, 'p_value': 1.0},\n",
       "  'ba_001': {'drift_status': True, 'p_value': 1.0},\n",
       "  'ba_002': {'drift_status': True, 'p_value': 1.0},\n",
       "  'ba_003': {'drift_status': True, 'p_value': 1.0},\n",
       "  'ba_004': {'drift_status': True, 'p_value': 1.0},\n",
       "  'ba_005': {'drift_status': True, 'p_value': 1.0},\n",
       "  'ba_006': {'drift_status': True, 'p_value': 1.0},\n",
       "  'ba_007': {'drift_status': True, 'p_value': 1.0},\n",
       "  'ba_008': {'drift_status': True, 'p_value': 1.0},\n",
       "  'ba_009': {'drift_status': True, 'p_value': 1.0},\n",
       "  'bb_000': {'drift_status': True, 'p_value': 1.0},\n",
       "  'bc_000': {'drift_status': True, 'p_value': 1.0},\n",
       "  'bd_000': {'drift_status': True, 'p_value': 1.0},\n",
       "  'be_000': {'drift_status': True, 'p_value': 1.0},\n",
       "  'bf_000': {'drift_status': True, 'p_value': 1.0},\n",
       "  'bg_000': {'drift_status': True, 'p_value': 1.0},\n",
       "  'bh_000': {'drift_status': True, 'p_value': 1.0},\n",
       "  'bi_000': {'drift_status': True, 'p_value': 1.0},\n",
       "  'bj_000': {'drift_status': True, 'p_value': 1.0},\n",
       "  'bk_000': {'drift_status': True, 'p_value': 1.0},\n",
       "  'bl_000': {'drift_status': True, 'p_value': 1.0},\n",
       "  'bm_000': {'drift_status': True, 'p_value': 1.0},\n",
       "  'bn_000': {'drift_status': True, 'p_value': 1.0},\n",
       "  'bo_000': {'drift_status': True, 'p_value': 1.0},\n",
       "  'bp_000': {'drift_status': True, 'p_value': 1.0},\n",
       "  'bq_000': {'drift_status': True, 'p_value': 1.0},\n",
       "  'br_000': {'drift_status': True, 'p_value': 1.0},\n",
       "  'bs_000': {'drift_status': True, 'p_value': 1.0},\n",
       "  'bt_000': {'drift_status': True, 'p_value': 1.0},\n",
       "  'bu_000': {'drift_status': True, 'p_value': 1.0},\n",
       "  'bv_000': {'drift_status': True, 'p_value': 1.0},\n",
       "  'bx_000': {'drift_status': True, 'p_value': 1.0},\n",
       "  'by_000': {'drift_status': True, 'p_value': 1.0},\n",
       "  'bz_000': {'drift_status': True, 'p_value': 1.0},\n",
       "  'ca_000': {'drift_status': True, 'p_value': 1.0},\n",
       "  'cb_000': {'drift_status': True, 'p_value': 1.0},\n",
       "  'cc_000': {'drift_status': True, 'p_value': 1.0},\n",
       "  'cd_000': {'drift_status': True, 'p_value': 1.0},\n",
       "  'ce_000': {'drift_status': True, 'p_value': 1.0},\n",
       "  'cf_000': {'drift_status': True, 'p_value': 1.0},\n",
       "  'cg_000': {'drift_status': True, 'p_value': 1.0},\n",
       "  'ch_000': {'drift_status': True, 'p_value': 1.0},\n",
       "  'ci_000': {'drift_status': True, 'p_value': 1.0},\n",
       "  'cj_000': {'drift_status': True, 'p_value': 1.0},\n",
       "  'ck_000': {'drift_status': True, 'p_value': 1.0},\n",
       "  'cl_000': {'drift_status': True, 'p_value': 1.0},\n",
       "  'cm_000': {'drift_status': True, 'p_value': 1.0},\n",
       "  'cn_000': {'drift_status': True, 'p_value': 1.0},\n",
       "  'cn_001': {'drift_status': True, 'p_value': 1.0},\n",
       "  'cn_002': {'drift_status': True, 'p_value': 1.0},\n",
       "  'cn_003': {'drift_status': True, 'p_value': 1.0},\n",
       "  'cn_004': {'drift_status': True, 'p_value': 1.0},\n",
       "  'cn_005': {'drift_status': True, 'p_value': 1.0},\n",
       "  'cn_006': {'drift_status': True, 'p_value': 1.0},\n",
       "  'cn_007': {'drift_status': True, 'p_value': 1.0},\n",
       "  'cn_008': {'drift_status': True, 'p_value': 1.0},\n",
       "  'cn_009': {'drift_status': True, 'p_value': 1.0},\n",
       "  'co_000': {'drift_status': True, 'p_value': 1.0},\n",
       "  'cp_000': {'drift_status': True, 'p_value': 1.0},\n",
       "  'cq_000': {'drift_status': True, 'p_value': 1.0},\n",
       "  'cr_000': {'drift_status': True, 'p_value': 1.0},\n",
       "  'cs_000': {'drift_status': True, 'p_value': 1.0},\n",
       "  'cs_001': {'drift_status': True, 'p_value': 1.0},\n",
       "  'cs_002': {'drift_status': True, 'p_value': 1.0},\n",
       "  'cs_003': {'drift_status': True, 'p_value': 1.0},\n",
       "  'cs_004': {'drift_status': True, 'p_value': 1.0},\n",
       "  'cs_005': {'drift_status': True, 'p_value': 1.0},\n",
       "  'cs_006': {'drift_status': True, 'p_value': 1.0},\n",
       "  'cs_007': {'drift_status': True, 'p_value': 1.0},\n",
       "  'cs_008': {'drift_status': True, 'p_value': 1.0},\n",
       "  'cs_009': {'drift_status': True, 'p_value': 1.0},\n",
       "  'ct_000': {'drift_status': True, 'p_value': 1.0},\n",
       "  'cu_000': {'drift_status': True, 'p_value': 1.0},\n",
       "  'cv_000': {'drift_status': True, 'p_value': 1.0},\n",
       "  'cx_000': {'drift_status': True, 'p_value': 1.0},\n",
       "  'cy_000': {'drift_status': True, 'p_value': 1.0},\n",
       "  'cz_000': {'drift_status': True, 'p_value': 1.0},\n",
       "  'da_000': {'drift_status': True, 'p_value': 1.0},\n",
       "  'db_000': {'drift_status': True, 'p_value': 1.0},\n",
       "  'dc_000': {'drift_status': True, 'p_value': 1.0},\n",
       "  'dd_000': {'drift_status': True, 'p_value': 1.0},\n",
       "  'de_000': {'drift_status': True, 'p_value': 1.0},\n",
       "  'df_000': {'drift_status': True, 'p_value': 1.0},\n",
       "  'dg_000': {'drift_status': True, 'p_value': 1.0},\n",
       "  'dh_000': {'drift_status': True, 'p_value': 1.0},\n",
       "  'di_000': {'drift_status': True, 'p_value': 1.0},\n",
       "  'dj_000': {'drift_status': True, 'p_value': 1.0},\n",
       "  'dk_000': {'drift_status': True, 'p_value': 1.0},\n",
       "  'dl_000': {'drift_status': True, 'p_value': 1.0},\n",
       "  'dm_000': {'drift_status': True, 'p_value': 1.0},\n",
       "  'dn_000': {'drift_status': True, 'p_value': 1.0},\n",
       "  'do_000': {'drift_status': True, 'p_value': 1.0},\n",
       "  'dp_000': {'drift_status': True, 'p_value': 1.0},\n",
       "  'dq_000': {'drift_status': True, 'p_value': 1.0},\n",
       "  'dr_000': {'drift_status': True, 'p_value': 1.0},\n",
       "  'ds_000': {'drift_status': True, 'p_value': 1.0},\n",
       "  'dt_000': {'drift_status': True, 'p_value': 1.0},\n",
       "  'du_000': {'drift_status': True, 'p_value': 1.0},\n",
       "  'dv_000': {'drift_status': True, 'p_value': 1.0},\n",
       "  'dx_000': {'drift_status': True, 'p_value': 1.0},\n",
       "  'dy_000': {'drift_status': True, 'p_value': 1.0},\n",
       "  'dz_000': {'drift_status': True, 'p_value': 1.0},\n",
       "  'ea_000': {'drift_status': True, 'p_value': 1.0},\n",
       "  'eb_000': {'drift_status': True, 'p_value': 1.0},\n",
       "  'ec_00': {'drift_status': True, 'p_value': 1.0},\n",
       "  'ed_000': {'drift_status': True, 'p_value': 1.0},\n",
       "  'ee_000': {'drift_status': True, 'p_value': 1.0},\n",
       "  'ee_001': {'drift_status': True, 'p_value': 1.0},\n",
       "  'ee_002': {'drift_status': True, 'p_value': 1.0},\n",
       "  'ee_003': {'drift_status': True, 'p_value': 1.0},\n",
       "  'ee_004': {'drift_status': True, 'p_value': 1.0},\n",
       "  'ee_005': {'drift_status': True, 'p_value': 1.0},\n",
       "  'ee_006': {'drift_status': True, 'p_value': 1.0},\n",
       "  'ee_007': {'drift_status': True, 'p_value': 1.0},\n",
       "  'ee_008': {'drift_status': True, 'p_value': 1.0},\n",
       "  'ee_009': {'drift_status': True, 'p_value': 1.0},\n",
       "  'ef_000': {'drift_status': True, 'p_value': 1.0},\n",
       "  'eg_000': {'drift_status': True, 'p_value': 1.0}},\n",
       " True)"
      ]
     },
     "execution_count": 9,
     "metadata": {},
     "output_type": "execute_result"
    }
   ],
   "source": [
    "detect_dataset_drift(df,df_og)"
   ]
  },
  {
   "cell_type": "code",
   "execution_count": null,
   "metadata": {},
   "outputs": [],
   "source": []
  }
 ],
 "metadata": {
  "kernelspec": {
   "display_name": "myenv",
   "language": "python",
   "name": "python3"
  },
  "language_info": {
   "codemirror_mode": {
    "name": "ipython",
    "version": 3
   },
   "file_extension": ".py",
   "mimetype": "text/x-python",
   "name": "python",
   "nbconvert_exporter": "python",
   "pygments_lexer": "ipython3",
   "version": "3.8.19"
  }
 },
 "nbformat": 4,
 "nbformat_minor": 2
}
